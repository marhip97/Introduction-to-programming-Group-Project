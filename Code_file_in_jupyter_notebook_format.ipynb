# Premier league table constructer

The goal of pour project is to create a standardised script that can turn all match information of a season of any of the top European football leagues into the correct season table. This includes restructuring the data, calculating the goal difference, points, wins, loses and draws per team and ranking the teams according to the rules of the game.

Furthermore, we aim to compare the performance of the clubs over time and provide detailed information on the best performing club of three seasons. Therefore, we rank the clubs based on their average performance of the previous seasons and pull information on the top-performing club via API.
