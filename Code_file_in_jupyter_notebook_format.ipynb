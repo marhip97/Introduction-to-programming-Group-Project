def organise_data(data):
    data = open(data, "r")
    dict1 = {}
    number = 0
    for i in data:
        if number == 0:
            number +=1
        else:
            line = i.strip().split(",")
            Home_team = line[1]
            Away_team = line[2]
            GH = int(line[3])
            GA = int(line[4])
            YH = int(line[5])
            YA = int(line[6])

            dict1[number] = [Home_team, Away_team, GH, GA, YH, YA]

            number += 1
        
    return dict1

season_16_17 = organise_data("16_17_revised.csv")
season_17_18 = organise_data("17_18_revised.csv")
season_18_19 = organise_data("18_19_revised.csv")

def allocate_points_and_goaldiff(data, season):
    # Creating a dictionary of all the teams in the league, 20 in total:
    dict1={}
    for i in data.keys():
        dict1[data[i][0]]={"Games_played":0,"Wins":0, "Losses":0, "Draws":0, "Points":0, "Goal_diff":0, "Yellow_cards":0}
    assert len(dict1)==20
    
    # Allocate points and goaldiff for each match:
    for x in data.keys():
        #Matched played:
        dict1[data[x][0]]["Games_played"] +=1
        dict1[data[x][1]]["Games_played"] +=1

        #Allocation of points:
        if data[x][2] > data[x][3]:
            dict1[data[x][0]]["Wins"] +=1
            dict1[data[x][0]]["Points"] += 3
            dict1[data[x][1]]["Losses"] += 1
        
        if data[x][2] < data[x][3]:
            dict1[data[x][1]]["Wins"] += 1
            dict1[data[x][1]]["Points"] += 3
            dict1[data[x][0]]["Losses"] += 1
        
        if data[x][2] == data[x][3]:
            dict1[data[x][1]]["Draws"] += 1
            dict1[data[x][1]]["Points"] += 1
            dict1[data[x][0]]["Points"] += 1
            dict1[data[x][0]]["Draws"] += 1
            
        #Calculating goal-diff:
        dict1[data[x][0]]["Goal_diff"] += (data[x][2] - data[x][3])
        dict1[data[x][1]]["Goal_diff"] += (data[x][3] - data[x][2])
        
        #Calculating yellow-card statistics:
        dict1[data[x][0]]["Yellow_cards"] += data[x][4]
        dict1[data[x][1]]["Yellow_cards"] += data[x][5]
            
    return dict1      
    
    
allocation_season_16_17= allocate_points_and_goaldiff(season_16_17, "16/17")
allocation_season_17_18= allocate_points_and_goaldiff(season_17_18, "17_18")
allocation_season_18_19= allocate_points_and_goaldiff(season_18_19, "18_19")
