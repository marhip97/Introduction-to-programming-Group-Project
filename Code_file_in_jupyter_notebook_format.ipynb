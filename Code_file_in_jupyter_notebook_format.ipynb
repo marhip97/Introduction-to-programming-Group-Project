{
 "cells": [
  {
   "cell_type": "code",
   "execution_count": 119,
   "metadata": {},
   "outputs": [],
   "source": [
    "def organise_data(data):\n",
    "    data = open(data, \"r\")\n",
    "    dict1 = {}\n",
    "    number = 0\n",
    "    for i in data:\n",
    "        if number == 0:\n",
    "            number +=1\n",
    "        else:\n",
    "            line = i.strip().split(\",\")\n",
    "            Home_team = line[1]\n",
    "            Away_team = line[2]\n",
    "            GH = int(line[3])\n",
    "            GA = int(line[4])\n",
    "            YH = int(line[5])\n",
    "            YA = int(line[6])\n",
    "\n",
    "            dict1[number] = [Home_team, Away_team, GH, GA, YH, YA]\n",
    "\n",
    "            number += 1\n",
    "        \n",
    "    return dict1\n",
    "\n",
    "season_16_17 = organise_data(\"16_17_revised.csv\")\n",
    "season_17_18 = organise_data(\"17_18_revised.csv\")\n",
    "season_18_19 = organise_data(\"18_19_revised.csv\")\n"
   ]
  },
  {
   "cell_type": "code",
   "execution_count": 120,
   "metadata": {},
   "outputs": [],
   "source": [
    "def allocate_points_and_goaldiff(data, season):\n",
    "    # Creating a dictionary of all the teams in the league, 20 in total:\n",
    "    dict1={}\n",
    "    for i in data.keys():\n",
    "        dict1[data[i][0]]={\"Games_played\":0,\"Wins\":0, \"Losses\":0, \"Draws\":0, \"Points\":0, \"Goal_diff\":0, \"Yellow_cards\":0}\n",
    "    assert len(dict1)==20\n",
    "    \n",
    "    # Allocate points and goaldiff for each match:\n",
    "    for x in data.keys():\n",
    "        #Matched played:\n",
    "        dict1[data[x][0]][\"Games_played\"] +=1\n",
    "        dict1[data[x][1]][\"Games_played\"] +=1\n",
    "\n",
    "        #Allocation of points:\n",
    "        if data[x][2] > data[x][3]:\n",
    "            dict1[data[x][0]][\"Wins\"] +=1\n",
    "            dict1[data[x][0]][\"Points\"] += 3\n",
    "            dict1[data[x][1]][\"Losses\"] += 1\n",
    "        \n",
    "        if data[x][2] < data[x][3]:\n",
    "            dict1[data[x][1]][\"Wins\"] += 1\n",
    "            dict1[data[x][1]][\"Points\"] += 3\n",
    "            dict1[data[x][0]][\"Losses\"] += 1\n",
    "        \n",
    "        if data[x][2] == data[x][3]:\n",
    "            dict1[data[x][1]][\"Draws\"] += 1\n",
    "            dict1[data[x][1]][\"Points\"] += 1\n",
    "            dict1[data[x][0]][\"Points\"] += 1\n",
    "            dict1[data[x][0]][\"Draws\"] += 1\n",
    "            \n",
    "        #Calculating goal-diff:\n",
    "        dict1[data[x][0]][\"Goal_diff\"] += (data[x][2] - data[x][3])\n",
    "        dict1[data[x][1]][\"Goal_diff\"] += (data[x][3] - data[x][2])\n",
    "        \n",
    "        #Calculating yellow-card statistics:\n",
    "        dict1[data[x][0]][\"Yellow_cards\"] += data[x][4]\n",
    "        dict1[data[x][1]][\"Yellow_cards\"] += data[x][5]\n",
    "            \n",
    "    return dict1      \n",
    "    \n",
    "    \n",
    "allocation_season_16_17= allocate_points_and_goaldiff(season_16_17, \"16/17\")\n",
    "allocation_season_17_18= allocate_points_and_goaldiff(season_17_18, \"17_18\")\n",
    "allocation_season_18_19= allocate_points_and_goaldiff(season_18_19, \"18_19\")\n"
   ]
  },
  {
   "cell_type": "code",
   "execution_count": null,
   "metadata": {},
   "outputs": [],
   "source": [
    " "
   ]
  }
 ],
 "metadata": {
  "kernelspec": {
   "display_name": "Python 3",
   "language": "python",
   "name": "python3"
  },
  "language_info": {
   "codemirror_mode": {
    "name": "ipython",
    "version": 3
   },
   "file_extension": ".py",
   "mimetype": "text/x-python",
   "name": "python",
   "nbconvert_exporter": "python",
   "pygments_lexer": "ipython3",
   "version": "3.7.6"
  }
 },
 "nbformat": 4,
 "nbformat_minor": 4
}
